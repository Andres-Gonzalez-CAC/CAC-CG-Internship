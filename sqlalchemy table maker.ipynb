{
 "cells": [
  {
   "cell_type": "code",
   "execution_count": 79,
   "id": "d452b136",
   "metadata": {},
   "outputs": [],
   "source": [
    "import sqlite3\n",
    "from pathlib import Path\n",
    "import unicodedata"
   ]
  },
  {
   "cell_type": "code",
   "execution_count": 80,
   "id": "caa26738",
   "metadata": {},
   "outputs": [],
   "source": [
    "path = \"C:/Users/stets/Desktop/2021_GIS_Internship/CAC-CG-Internship/flask_app/CGReport\"\n",
    "dbpath = path + \"/Building_Information\"\n",
    "conn = sqlite3.connect(dbpath + '.sqlite3')\n",
    "c = conn.cursor()"
   ]
  },
  {
   "cell_type": "code",
   "execution_count": 81,
   "id": "729721f6",
   "metadata": {},
   "outputs": [],
   "source": [
    "c.execute(\"PRAGMA TABLE_INFO('Supplementary_Site_Info')\")\n",
    "res = c.fetchall()"
   ]
  },
  {
   "cell_type": "code",
   "execution_count": 82,
   "id": "37e90997",
   "metadata": {},
   "outputs": [],
   "source": [
    "columnsDict = {}\n",
    "for row in res:  \n",
    "    columnsDict[row[1]] = row[2]\n"
   ]
  },
  {
   "cell_type": "code",
   "execution_count": 83,
   "id": "441381b6",
   "metadata": {},
   "outputs": [],
   "source": [
    "outstr=''\n",
    "for k,v in columnsDict.items():\n",
    "    outstr += f'{k} = db.column(db.{v})'\n",
    "    outstr+= '\\n'\n",
    "outstr = outstr.replace(\"REAL\",\"Numeric\")\n"
   ]
  },
  {
   "cell_type": "code",
   "execution_count": 84,
   "id": "6e0d2735",
   "metadata": {},
   "outputs": [],
   "source": [
    "with open('supTable.txt','w') as file_object:\n",
    "    file_object.write(outstr)"
   ]
  },
  {
   "cell_type": "code",
   "execution_count": null,
   "id": "f71b41f0",
   "metadata": {},
   "outputs": [],
   "source": []
  }
 ],
 "metadata": {
  "kernelspec": {
   "display_name": "Python 3",
   "language": "python",
   "name": "python3"
  },
  "language_info": {
   "codemirror_mode": {
    "name": "ipython",
    "version": 3
   },
   "file_extension": ".py",
   "mimetype": "text/x-python",
   "name": "python",
   "nbconvert_exporter": "python",
   "pygments_lexer": "ipython3",
   "version": "3.9.4"
  }
 },
 "nbformat": 4,
 "nbformat_minor": 5
}
